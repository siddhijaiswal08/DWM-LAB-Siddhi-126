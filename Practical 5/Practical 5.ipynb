{
 "cells": [
  {
   "cell_type": "code",
   "execution_count": 2,
   "id": "f9bec902-8ef9-4262-a4a6-d3a8cc67b57a",
   "metadata": {},
   "outputs": [],
   "source": [
    "# Importing library\n",
    "import pandas as pd "
   ]
  },
  {
   "cell_type": "code",
   "execution_count": 4,
   "id": "a78eaf6a-8e25-4e06-9448-6f8cced7fdcc",
   "metadata": {},
   "outputs": [],
   "source": [
    "# Sample dataset\n",
    "data = {\n",
    "    'ID': [1, 2, 3, 4, 5, 6],\n",
    "    'Name': ['Alice', 'Bob', 'Charlie', 'David', 'Sid', 'Frank'],\n",
    "    'Age': [20, 30, 40, 50, 23, 65],\n",
    "    'Country': ['USA', 'UK', 'USA', 'Canada', 'India', 'UK'],\n",
    "    'Sales': [200, 350, 500, 800, 150, 700 ]\n",
    "}"
   ]
  },
  {
   "cell_type": "code",
   "execution_count": 7,
   "id": "0e4ba349-d8c9-4afd-a00d-b49edd107dc1",
   "metadata": {},
   "outputs": [],
   "source": [
    "df = pd.DataFrame(data)"
   ]
  },
  {
   "cell_type": "code",
   "execution_count": 9,
   "id": "f45012fe-1d84-4a3b-9556-9ae37fa185db",
   "metadata": {},
   "outputs": [
    {
     "data": {
      "text/html": [
       "<div>\n",
       "<style scoped>\n",
       "    .dataframe tbody tr th:only-of-type {\n",
       "        vertical-align: middle;\n",
       "    }\n",
       "\n",
       "    .dataframe tbody tr th {\n",
       "        vertical-align: top;\n",
       "    }\n",
       "\n",
       "    .dataframe thead th {\n",
       "        text-align: right;\n",
       "    }\n",
       "</style>\n",
       "<table border=\"1\" class=\"dataframe\">\n",
       "  <thead>\n",
       "    <tr style=\"text-align: right;\">\n",
       "      <th></th>\n",
       "      <th>ID</th>\n",
       "      <th>Name</th>\n",
       "      <th>Age</th>\n",
       "      <th>Country</th>\n",
       "      <th>Sales</th>\n",
       "    </tr>\n",
       "  </thead>\n",
       "  <tbody>\n",
       "    <tr>\n",
       "      <th>0</th>\n",
       "      <td>1</td>\n",
       "      <td>Alice</td>\n",
       "      <td>20</td>\n",
       "      <td>USA</td>\n",
       "      <td>200</td>\n",
       "    </tr>\n",
       "    <tr>\n",
       "      <th>1</th>\n",
       "      <td>2</td>\n",
       "      <td>Bob</td>\n",
       "      <td>30</td>\n",
       "      <td>UK</td>\n",
       "      <td>350</td>\n",
       "    </tr>\n",
       "    <tr>\n",
       "      <th>2</th>\n",
       "      <td>3</td>\n",
       "      <td>Charlie</td>\n",
       "      <td>40</td>\n",
       "      <td>USA</td>\n",
       "      <td>500</td>\n",
       "    </tr>\n",
       "    <tr>\n",
       "      <th>3</th>\n",
       "      <td>4</td>\n",
       "      <td>David</td>\n",
       "      <td>50</td>\n",
       "      <td>Canada</td>\n",
       "      <td>800</td>\n",
       "    </tr>\n",
       "    <tr>\n",
       "      <th>4</th>\n",
       "      <td>5</td>\n",
       "      <td>Sid</td>\n",
       "      <td>23</td>\n",
       "      <td>India</td>\n",
       "      <td>150</td>\n",
       "    </tr>\n",
       "    <tr>\n",
       "      <th>5</th>\n",
       "      <td>6</td>\n",
       "      <td>Frank</td>\n",
       "      <td>65</td>\n",
       "      <td>UK</td>\n",
       "      <td>700</td>\n",
       "    </tr>\n",
       "  </tbody>\n",
       "</table>\n",
       "</div>"
      ],
      "text/plain": [
       "   ID     Name  Age Country  Sales\n",
       "0   1    Alice   20     USA    200\n",
       "1   2      Bob   30      UK    350\n",
       "2   3  Charlie   40     USA    500\n",
       "3   4    David   50  Canada    800\n",
       "4   5      Sid   23   India    150\n",
       "5   6    Frank   65      UK    700"
      ]
     },
     "execution_count": 9,
     "metadata": {},
     "output_type": "execute_result"
    }
   ],
   "source": [
    "df.head(6)"
   ]
  },
  {
   "cell_type": "code",
   "execution_count": 6,
   "id": "4db5cc1e-3c8d-4cf1-9663-3a237b94e67a",
   "metadata": {},
   "outputs": [
    {
     "name": "stdout",
     "output_type": "stream",
     "text": [
      "\n",
      "Character Map Transformation:\n",
      "    ID     Name  Age Country  Sales\n",
      "0   1    ALICE   20     USA    200\n",
      "1   2      BOB   30      UK    350\n",
      "2   3  CHARLIE   40     USA    500\n",
      "3   4    DAVID   50  Canada    800\n",
      "4   5      SID   23   India    150\n",
      "5   6    FRANK   65      UK    700\n"
     ]
    }
   ],
   "source": [
    "# 1. Character Map Transformation - Convert Name column to uppercase\n",
    "df['Name'] = df['Name'].str.upper()\n",
    "print(\"\\nCharacter Map Transformation:\\n\", df)"
   ]
  },
  {
   "cell_type": "code",
   "execution_count": 10,
   "id": "d72c3271-fcf0-49a2-a0a9-783a39f9968d",
   "metadata": {},
   "outputs": [
    {
     "name": "stdout",
     "output_type": "stream",
     "text": [
      "\n",
      "Multicast Transformation - Two copies created\n"
     ]
    }
   ],
   "source": [
    "# 2. Multicast Transformation - Create copies of dataset\n",
    "df_copy1 = df.copy()\n",
    "df_copy2 = df.copy()\n",
    "print(\"\\nMulticast Transformation - Two copies created\")"
   ]
  },
  {
   "cell_type": "code",
   "execution_count": 11,
   "id": "f97694b1-8fb1-4202-a4c2-03b320856c24",
   "metadata": {},
   "outputs": [
    {
     "name": "stdout",
     "output_type": "stream",
     "text": [
      "\n",
      "Conditional Split Transformation:\n",
      "    ID     Name  Age Country  Sales\n",
      "1   2      Bob   30      UK    350\n",
      "2   3  Charlie   40     USA    500\n",
      "3   4    David   50  Canada    800\n",
      "5   6    Frank   65      UK    700\n"
     ]
    }
   ],
   "source": [
    "# 3. Conditional Split Transformation - Filter rows where Sales > 300\n",
    "df_filtered = df[df['Sales'] > 300]\n",
    "print(\"\\nConditional Split Transformation:\\n\", df_filtered)"
   ]
  },
  {
   "cell_type": "code",
   "execution_count": 12,
   "id": "62ea8b1c-5fdd-4050-9ef7-f2e9127de536",
   "metadata": {},
   "outputs": [
    {
     "name": "stdout",
     "output_type": "stream",
     "text": [
      "\n",
      "Aggregation Transformation:\n",
      "   Country  Sales\n",
      "0  Canada    800\n",
      "1   India    150\n",
      "2      UK   1050\n",
      "3     USA    700\n"
     ]
    }
   ],
   "source": [
    "# 4. Aggregation Transformation - Total sales per country\n",
    "df_aggregated = df.groupby('Country')['Sales'].sum().reset_index()\n",
    "print(\"\\nAggregation Transformation:\\n\", df_aggregated)"
   ]
  },
  {
   "cell_type": "code",
   "execution_count": 16,
   "id": "cf63a120-3614-406d-b8d2-67a5480afb7d",
   "metadata": {},
   "outputs": [
    {
     "name": "stdout",
     "output_type": "stream",
     "text": [
      "\n",
      "Sorting Transformation:\n",
      "    ID     Name  Age Country  Sales Sales Category\n",
      "3   4    David   50  Canada    800           High\n",
      "5   6    Frank   65      UK    700           High\n",
      "2   3  Charlie   40     USA    500           High\n",
      "1   2      Bob   30      UK    350           High\n",
      "0   1    Alice   20     USA    200            Low\n",
      "4   5      Sid   23   India    150            Low\n"
     ]
    }
   ],
   "source": [
    "# 5. Sorting Transformation - Sort by Sales in descending order\n",
    "df_sorted = df.sort_values(by='Sales', ascending=False)\n",
    "print(\"\\nSorting Transformation:\\n\", df_sorted)"
   ]
  },
  {
   "cell_type": "code",
   "execution_count": 17,
   "id": "b2917512-13bf-433d-825c-a5b1759aabf6",
   "metadata": {},
   "outputs": [
    {
     "name": "stdout",
     "output_type": "stream",
     "text": [
      "\n",
      "Derived Column Transformation:\n",
      "    ID     Name  Age Country  Sales Sales Category\n",
      "0   1    Alice   20     USA    200            Low\n",
      "1   2      Bob   30      UK    350           High\n",
      "2   3  Charlie   40     USA    500           High\n",
      "3   4    David   50  Canada    800           High\n",
      "4   5      Sid   23   India    150            Low\n",
      "5   6    Frank   65      UK    700           High\n"
     ]
    }
   ],
   "source": [
    "# 6. Derived Column Transformation - Categorize Sales as High or Low\n",
    "df['Sales Category'] = df['Sales'].apply(lambda x: 'High' if x > 300 else 'Low')\n",
    "print(\"\\nDerived Column Transformation:\\n\", df)"
   ]
  }
 ],
 "metadata": {
  "kernelspec": {
   "display_name": "Python 3 (ipykernel)",
   "language": "python",
   "name": "python3"
  },
  "language_info": {
   "codemirror_mode": {
    "name": "ipython",
    "version": 3
   },
   "file_extension": ".py",
   "mimetype": "text/x-python",
   "name": "python",
   "nbconvert_exporter": "python",
   "pygments_lexer": "ipython3",
   "version": "3.12.4"
  }
 },
 "nbformat": 4,
 "nbformat_minor": 5
}
