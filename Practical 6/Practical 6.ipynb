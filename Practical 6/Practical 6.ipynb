{
 "cells": [
  {
   "cell_type": "code",
   "execution_count": 1,
   "id": "18f3fffb-e58e-43ad-8e38-4037625579ff",
   "metadata": {},
   "outputs": [],
   "source": [
    "import pandas as pd"
   ]
  },
  {
   "cell_type": "code",
   "execution_count": 2,
   "id": "50c61692-3341-4aea-b77c-599477f6ca26",
   "metadata": {},
   "outputs": [],
   "source": [
    "import numpy as np"
   ]
  },
  {
   "cell_type": "code",
   "execution_count": 3,
   "id": "3f6cf794-7598-4c04-81e8-61802dc35f10",
   "metadata": {},
   "outputs": [],
   "source": [
    "# Creating the dataset\n",
    "data = {\n",
    "    'Year': [2023, 2023, 2023, 2024, 2024, 2024],\n",
    "    'Quarter': ['Q1', 'Q2', 'Q3', 'Q1', 'Q2', 'Q3'],\n",
    "    'Region': ['North America', 'North America', 'Europe', 'Europe', 'Asia', 'Asia'],\n",
    "    'Country': ['USA', 'Canada', 'UK', 'Germany', 'India', 'China'],\n",
    "    'Category': ['Electronics', 'Clothing', 'Electronics', 'Clothing', 'Electronics', 'Clothing'],\n",
    "    'Product Name': ['Laptop', 'T-Shirt', 'Smartphone', 'Jacket', 'Tablet', 'Shoes'],\n",
    "    'Sales': [10000, 7000, 15000, 9000, 11000, 8000]\n",
    "}"
   ]
  },
  {
   "cell_type": "code",
   "execution_count": 4,
   "id": "3f63a4dc-6b75-438e-9285-09049dc0d2ee",
   "metadata": {},
   "outputs": [
    {
     "name": "stdout",
     "output_type": "stream",
     "text": [
      "Original Data:\n",
      "   Year Quarter         Region  Country     Category Product Name  Sales\n",
      "0  2023      Q1  North America      USA  Electronics       Laptop  10000\n",
      "1  2023      Q2  North America   Canada     Clothing      T-Shirt   7000\n",
      "2  2023      Q3         Europe       UK  Electronics   Smartphone  15000\n",
      "3  2024      Q1         Europe  Germany     Clothing       Jacket   9000\n",
      "4  2024      Q2           Asia    India  Electronics       Tablet  11000\n",
      "5  2024      Q3           Asia    China     Clothing        Shoes   8000\n"
     ]
    }
   ],
   "source": [
    "df = pd.DataFrame(data)\n",
    "print(\"Original Data:\")\n",
    "print(df)"
   ]
  },
  {
   "cell_type": "code",
   "execution_count": 5,
   "id": "60a8e48e-4579-41d2-b6d0-eadc14899d0c",
   "metadata": {},
   "outputs": [],
   "source": [
    "# OLAP Operations"
   ]
  },
  {
   "cell_type": "code",
   "execution_count": 6,
   "id": "f78f7958-f0e9-4bf3-800b-00ef7f97d61f",
   "metadata": {},
   "outputs": [
    {
     "name": "stdout",
     "output_type": "stream",
     "text": [
      "\n",
      "Roll-Up (Aggregate Sales by Year):\n",
      "   Year  Sales\n",
      "0  2023  32000\n",
      "1  2024  28000\n"
     ]
    }
   ],
   "source": [
    "# 1. Roll-Up (Aggregate Sales by Year)\n",
    "rollup_df = df.groupby('Year', as_index=False)['Sales'].sum()\n",
    "print(\"\\nRoll-Up (Aggregate Sales by Year):\")\n",
    "print(rollup_df)"
   ]
  },
  {
   "cell_type": "code",
   "execution_count": 7,
   "id": "8abd90b6-b67d-46fd-a1bb-571d918e52f9",
   "metadata": {},
   "outputs": [
    {
     "name": "stdout",
     "output_type": "stream",
     "text": [
      "\n",
      "Drill-Down (Sales by Year and Quarter):\n",
      "   Year Quarter  Sales\n",
      "0  2023      Q1  10000\n",
      "1  2023      Q2   7000\n",
      "2  2023      Q3  15000\n",
      "3  2024      Q1   9000\n",
      "4  2024      Q2  11000\n",
      "5  2024      Q3   8000\n"
     ]
    }
   ],
   "source": [
    "# 2. Drill-Down (Sales by Year and Quarter)\n",
    "drilldown_df = df.groupby(['Year', 'Quarter'], as_index=False)['Sales'].sum()\n",
    "print(\"\\nDrill-Down (Sales by Year and Quarter):\")\n",
    "print(drilldown_df)"
   ]
  },
  {
   "cell_type": "code",
   "execution_count": 8,
   "id": "02d6ad8c-b1b3-4a5c-8cf0-db45a73d0c82",
   "metadata": {},
   "outputs": [
    {
     "name": "stdout",
     "output_type": "stream",
     "text": [
      "\n",
      "Slice (Data for Year 2023):\n",
      "   Year Quarter         Region Country     Category Product Name  Sales\n",
      "0  2023      Q1  North America     USA  Electronics       Laptop  10000\n",
      "1  2023      Q2  North America  Canada     Clothing      T-Shirt   7000\n",
      "2  2023      Q3         Europe      UK  Electronics   Smartphone  15000\n"
     ]
    }
   ],
   "source": [
    "# 3. Slice (Data for Year 2023)\n",
    "slice_df = df[df['Year'] == 2023]\n",
    "print(\"\\nSlice (Data for Year 2023):\")\n",
    "print(slice_df)"
   ]
  },
  {
   "cell_type": "code",
   "execution_count": 9,
   "id": "28e9be13-ce5d-44af-ae90-9534ce227430",
   "metadata": {},
   "outputs": [
    {
     "name": "stdout",
     "output_type": "stream",
     "text": [
      "\n",
      "Dice (Sales for Year 2023 and Region 'North America'):\n",
      "   Year Quarter         Region Country     Category Product Name  Sales\n",
      "0  2023      Q1  North America     USA  Electronics       Laptop  10000\n",
      "1  2023      Q2  North America  Canada     Clothing      T-Shirt   7000\n"
     ]
    }
   ],
   "source": [
    "# 4. Dice (Sales for Year 2023 and Region 'North America')\n",
    "dice_df = df[(df['Year'] == 2023) & (df['Region'] == 'North America')]\n",
    "print(\"\\nDice (Sales for Year 2023 and Region 'North America'):\")\n",
    "print(dice_df)"
   ]
  },
  {
   "cell_type": "code",
   "execution_count": 10,
   "id": "01b7c667-4ccf-41e7-b045-0d321d5ab762",
   "metadata": {},
   "outputs": [
    {
     "name": "stdout",
     "output_type": "stream",
     "text": [
      "\n",
      "Pivot Table (Sales by Year and Region):\n",
      "Region   Asia  Europe  North America\n",
      "Year                                \n",
      "2023        0   15000          17000\n",
      "2024    19000    9000              0\n"
     ]
    },
    {
     "name": "stderr",
     "output_type": "stream",
     "text": [
      "C:\\Users\\siddd\\AppData\\Local\\Temp\\ipykernel_16416\\1342267880.py:2: FutureWarning: The provided callable <function sum at 0x000001EDBC771940> is currently using DataFrameGroupBy.sum. In a future version of pandas, the provided callable will be used directly. To keep current behavior pass the string \"sum\" instead.\n",
      "  pivot_table = df.pivot_table(values='Sales', index='Year', columns='Region', aggfunc=np.sum, fill_value=0)\n"
     ]
    }
   ],
   "source": [
    "# 5. Pivot Table Visualization\n",
    "pivot_table = df.pivot_table(values='Sales', index='Year', columns='Region', aggfunc=np.sum, fill_value=0)\n",
    "print(\"\\nPivot Table (Sales by Year and Region):\")\n",
    "print(pivot_table)"
   ]
  }
 ],
 "metadata": {
  "kernelspec": {
   "display_name": "Python 3 (ipykernel)",
   "language": "python",
   "name": "python3"
  },
  "language_info": {
   "codemirror_mode": {
    "name": "ipython",
    "version": 3
   },
   "file_extension": ".py",
   "mimetype": "text/x-python",
   "name": "python",
   "nbconvert_exporter": "python",
   "pygments_lexer": "ipython3",
   "version": "3.12.4"
  }
 },
 "nbformat": 4,
 "nbformat_minor": 5
}
