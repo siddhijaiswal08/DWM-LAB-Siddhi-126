{
 "cells": [
  {
   "cell_type": "code",
   "execution_count": 1,
   "id": "4fb4f14f-1d48-4128-8d75-f41ce7c680b2",
   "metadata": {},
   "outputs": [],
   "source": [
    "# Install required libraries\n",
    "!pip install mlxtend --quiet"
   ]
  },
  {
   "cell_type": "code",
   "execution_count": 2,
   "id": "f16d32f4-5fff-41aa-bd30-5dea8e1c2247",
   "metadata": {},
   "outputs": [],
   "source": [
    "# Import required libraries\n",
    "import pandas as pd\n",
    "from mlxtend.frequent_patterns import apriori, association_rules\n",
    "from mlxtend.preprocessing import TransactionEncoder"
   ]
  },
  {
   "cell_type": "code",
   "execution_count": 3,
   "id": "b54f4b6f-e2a6-4d6e-87c9-bd9c79de5811",
   "metadata": {},
   "outputs": [
    {
     "name": "stdout",
     "output_type": "stream",
     "text": [
      "Initial DataFrame:\n",
      "   Wine  Chips  Bread  Butter  Milk  Apple\n",
      "0  Wine    NaN  Bread  Butter  Milk    NaN\n",
      "1   NaN    NaN  Bread  Butter  Milk    NaN\n",
      "2   NaN  Chips    NaN     NaN   NaN  Apple\n",
      "3  Wine  Chips  Bread  Butter  Milk  Apple\n",
      "4  Wine  Chips    NaN     NaN  Milk    NaN\n"
     ]
    }
   ],
   "source": [
    "# Load the dataset\n",
    "df = pd.read_csv('apriori_dataset.csv')\n",
    "print(\"Initial DataFrame:\")\n",
    "print(df.head())"
   ]
  },
  {
   "cell_type": "code",
   "execution_count": 4,
   "id": "6730424a-3ab7-4ad9-bde2-cb7d795956c5",
   "metadata": {},
   "outputs": [],
   "source": [
    "# Assuming each row is a transaction (basket of items), drop NaNs\n",
    "transactions = []\n",
    "for i in range(len(df)):\n",
    "    transaction = df.iloc[i].dropna().tolist()\n",
    "    transactions.append(transaction)"
   ]
  },
  {
   "cell_type": "code",
   "execution_count": 5,
   "id": "ee3acd38-0edc-4783-aa73-ca3fe8b21c3e",
   "metadata": {},
   "outputs": [],
   "source": [
    "# Convert to one-hot encoding\n",
    "te = TransactionEncoder()\n",
    "te_array = te.fit(transactions).transform(transactions)\n",
    "df_trans = pd.DataFrame(te_array, columns=te.columns_)"
   ]
  },
  {
   "cell_type": "code",
   "execution_count": 6,
   "id": "8e1e99e2-de53-4c69-975a-0e623deb8b23",
   "metadata": {},
   "outputs": [],
   "source": [
    "# Apply Apriori algorithm\n",
    "frequent_itemsets = apriori(df_trans, min_support=0.2, use_colnames=True)"
   ]
  },
  {
   "cell_type": "code",
   "execution_count": 7,
   "id": "76fae71d-b69e-4ed2-b428-f7e450ec5073",
   "metadata": {},
   "outputs": [],
   "source": [
    "# Generate association rules\n",
    "rules = association_rules(frequent_itemsets, metric=\"lift\", min_threshold=1.0)"
   ]
  },
  {
   "cell_type": "code",
   "execution_count": 8,
   "id": "e9b2ee37-78a6-485b-8c13-a6873f872796",
   "metadata": {},
   "outputs": [
    {
     "name": "stdout",
     "output_type": "stream",
     "text": [
      "\n",
      "Frequent Itemsets:\n",
      "     support                            itemsets\n",
      "0   0.666667                             (Apple)\n",
      "1   0.714286                             (Bread)\n",
      "2   0.666667                            (Butter)\n",
      "3   0.619048                             (Chips)\n",
      "4   0.761905                              (Milk)\n",
      "5   0.714286                              (Wine)\n",
      "6   0.523810                      (Bread, Apple)\n",
      "7   0.476190                     (Apple, Butter)\n",
      "8   0.428571                      (Apple, Chips)\n",
      "9   0.476190                       (Milk, Apple)\n",
      "10  0.476190                       (Wine, Apple)\n",
      "11  0.571429                     (Bread, Butter)\n",
      "12  0.380952                      (Bread, Chips)\n",
      "13  0.571429                       (Bread, Milk)\n",
      "14  0.571429                       (Bread, Wine)\n",
      "15  0.380952                     (Butter, Chips)\n",
      "16  0.571429                      (Milk, Butter)\n",
      "17  0.476190                      (Wine, Butter)\n",
      "18  0.428571                       (Milk, Chips)\n",
      "19  0.380952                       (Wine, Chips)\n",
      "20  0.619048                        (Wine, Milk)\n",
      "21  0.380952              (Bread, Apple, Butter)\n",
      "22  0.333333               (Bread, Apple, Chips)\n",
      "23  0.380952                (Bread, Milk, Apple)\n",
      "24  0.428571                (Bread, Wine, Apple)\n",
      "25  0.333333              (Apple, Butter, Chips)\n",
      "26  0.380952               (Milk, Apple, Butter)\n",
      "27  0.333333               (Wine, Apple, Butter)\n",
      "28  0.285714                (Milk, Apple, Chips)\n",
      "29  0.238095                (Wine, Apple, Chips)\n",
      "30  0.380952                 (Milk, Apple, Wine)\n",
      "31  0.333333              (Bread, Butter, Chips)\n",
      "32  0.476190               (Bread, Milk, Butter)\n",
      "33  0.428571               (Bread, Wine, Butter)\n",
      "34  0.285714                (Bread, Milk, Chips)\n",
      "35  0.285714                (Bread, Wine, Chips)\n",
      "36  0.476190                 (Bread, Wine, Milk)\n",
      "37  0.285714               (Milk, Butter, Chips)\n",
      "38  0.238095               (Wine, Butter, Chips)\n",
      "39  0.428571                (Wine, Milk, Butter)\n",
      "40  0.333333                 (Wine, Milk, Chips)\n",
      "41  0.285714       (Bread, Apple, Butter, Chips)\n",
      "42  0.285714        (Bread, Milk, Apple, Butter)\n",
      "43  0.285714        (Bread, Wine, Apple, Butter)\n",
      "44  0.238095         (Bread, Milk, Apple, Chips)\n",
      "45  0.238095         (Bread, Wine, Apple, Chips)\n",
      "46  0.333333          (Bread, Milk, Apple, Wine)\n",
      "47  0.238095        (Milk, Apple, Butter, Chips)\n",
      "48  0.285714         (Milk, Apple, Butter, Wine)\n",
      "49  0.238095        (Bread, Milk, Butter, Chips)\n",
      "50  0.238095        (Bread, Wine, Butter, Chips)\n",
      "51  0.380952         (Bread, Wine, Milk, Butter)\n",
      "52  0.238095          (Bread, Wine, Milk, Chips)\n",
      "53  0.238095  (Wine, Apple, Bread, Milk, Butter)\n"
     ]
    }
   ],
   "source": [
    "# Display results\n",
    "print(\"\\nFrequent Itemsets:\")\n",
    "print(frequent_itemsets)"
   ]
  },
  {
   "cell_type": "code",
   "execution_count": 9,
   "id": "57692b1d-35f5-40cf-aeff-046080d4f98f",
   "metadata": {},
   "outputs": [
    {
     "name": "stdout",
     "output_type": "stream",
     "text": [
      "\n",
      "Association Rules:\n",
      "         antecedents                   consequents   support  confidence  \\\n",
      "0            (Bread)                       (Apple)  0.523810    0.733333   \n",
      "1            (Apple)                       (Bread)  0.523810    0.785714   \n",
      "2            (Apple)                      (Butter)  0.476190    0.714286   \n",
      "3           (Butter)                       (Apple)  0.476190    0.714286   \n",
      "4            (Apple)                       (Chips)  0.428571    0.642857   \n",
      "..               ...                           ...       ...         ...   \n",
      "259  (Bread, Butter)           (Wine, Apple, Milk)  0.238095    0.416667   \n",
      "260           (Wine)  (Bread, Milk, Apple, Butter)  0.238095    0.333333   \n",
      "261          (Bread)   (Wine, Apple, Butter, Milk)  0.238095    0.333333   \n",
      "262           (Milk)  (Bread, Wine, Apple, Butter)  0.238095    0.312500   \n",
      "263         (Butter)    (Bread, Wine, Apple, Milk)  0.238095    0.357143   \n",
      "\n",
      "         lift  \n",
      "0    1.100000  \n",
      "1    1.100000  \n",
      "2    1.071429  \n",
      "3    1.071429  \n",
      "4    1.038462  \n",
      "..        ...  \n",
      "259  1.093750  \n",
      "260  1.166667  \n",
      "261  1.166667  \n",
      "262  1.093750  \n",
      "263  1.071429  \n",
      "\n",
      "[264 rows x 5 columns]\n"
     ]
    }
   ],
   "source": [
    "print(\"\\nAssociation Rules:\")\n",
    "print(rules[['antecedents', 'consequents', 'support', 'confidence', 'lift']])"
   ]
  }
 ],
 "metadata": {
  "kernelspec": {
   "display_name": "Python 3 (ipykernel)",
   "language": "python",
   "name": "python3"
  },
  "language_info": {
   "codemirror_mode": {
    "name": "ipython",
    "version": 3
   },
   "file_extension": ".py",
   "mimetype": "text/x-python",
   "name": "python",
   "nbconvert_exporter": "python",
   "pygments_lexer": "ipython3",
   "version": "3.12.4"
  }
 },
 "nbformat": 4,
 "nbformat_minor": 5
}
